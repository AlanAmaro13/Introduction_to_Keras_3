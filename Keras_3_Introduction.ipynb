{
  "cells": [
    {
      "cell_type": "markdown",
      "metadata": {
        "id": "view-in-github",
        "colab_type": "text"
      },
      "source": [
        "<a href=\"https://colab.research.google.com/github/AlanAmaro13/Introduction_to_Keras_3/blob/main/Keras_3_Introduction.ipynb\" target=\"_parent\"><img src=\"https://colab.research.google.com/assets/colab-badge.svg\" alt=\"Open In Colab\"/></a>"
      ]
    },
    {
      "cell_type": "markdown",
      "id": "576d7aa9",
      "metadata": {
        "id": "576d7aa9"
      },
      "source": [
        "# Introduction to Keras 3"
      ]
    },
    {
      "cell_type": "markdown",
      "id": "cc1f1b00",
      "metadata": {
        "id": "cc1f1b00"
      },
      "source": [
        "## _By Alan Amaro_"
      ]
    },
    {
      "cell_type": "markdown",
      "id": "376ba897",
      "metadata": {
        "id": "376ba897"
      },
      "source": [
        "Hi there! This little document is a, maybe no completely, short guide about Keras 3. If you're totally new doing Artificial Inteligence or even if you're here looking for learn a different backed this guide will provide you a good understanding about Keras, its sintax, and all the tricks you must know!\n",
        "\n",
        "\n",
        "My original plan is to read the IA's notebooks, the documentation, and make this notebook a complete guide for each level. If you're reading also the notebooks and you have a good understanding about the fundamental concepts in IA, I recommend you start with the 8th notebook.\n",
        "\n"
      ]
    },
    {
      "cell_type": "markdown",
      "id": "c4ecdf4c",
      "metadata": {
        "id": "c4ecdf4c"
      },
      "source": [
        "Para todo el uso de keras siempre es recomendable leer la documentación oficial en: [Keras](https://keras.io/)"
      ]
    },
    {
      "cell_type": "markdown",
      "id": "8ca8e3c6",
      "metadata": {
        "id": "8ca8e3c6"
      },
      "source": [
        "# So, what's Keras?"
      ]
    },
    {
      "cell_type": "markdown",
      "id": "234da6f0",
      "metadata": {
        "id": "234da6f0"
      },
      "source": [
        "Acorde a _Copilot_: Keras es una **biblioteca de código abierto** escrita en Python que facilita la creación y experimentación con redes neuronales. Originalmente desarrollada por François Chollet, Keras actúa como una interfaz de alto nivel para TensorFlow, permitiendo a los usuarios construir y entrenar modelos de aprendizaje profundo de manera más intuitiva y con menos código².\n",
        "\n",
        "Algunas características clave de Keras son:\n",
        "\n",
        "- **Amigable al usuario**: Keras tiene una interfaz simple y consistente que está optimizada para casos de uso comunes, proporcionando mensajes de error claros y procesables.\n",
        "- **Modular y configurable**: Los modelos en Keras se construyen conectando bloques de construcción configurables entre sí, lo que permite una gran flexibilidad.\n",
        "- **Fácil de extender**: Puedes escribir tus propios bloques de construcción para expresar nuevas ideas para la investigación, como nuevas capas, métricas, funciones de pérdida, etc.\n",
        "\n",
        "Keras se integra bien con TensorFlow y otros frameworks, lo que la hace una herramienta valiosa tanto para la creación rápida de prototipos como para la investigación de vanguardia y aplicaciones en producción².\n",
        "\n",
        "(2) Keras | TensorFlow Core. https://www.tensorflow.org/guide/keras?hl=es-419.\n"
      ]
    },
    {
      "cell_type": "markdown",
      "source": [
        "# _How to install Keras_"
      ],
      "metadata": {
        "id": "DmueHm0vyPWd"
      },
      "id": "DmueHm0vyPWd"
    },
    {
      "cell_type": "markdown",
      "source": [
        "Para utilizar Keras en Colaboratory, acorde a la guía de Keras, utilizamos:"
      ],
      "metadata": {
        "id": "hj2LWKvAyTmn"
      },
      "id": "hj2LWKvAyTmn"
    },
    {
      "cell_type": "code",
      "source": [
        "! pip install --upgrade keras"
      ],
      "metadata": {
        "colab": {
          "base_uri": "https://localhost:8080/"
        },
        "id": "giGwEr6LyR1v",
        "outputId": "4076fcca-8c86-4530-cab7-790912cf46d4"
      },
      "id": "giGwEr6LyR1v",
      "execution_count": null,
      "outputs": [
        {
          "output_type": "stream",
          "name": "stdout",
          "text": [
            "Requirement already satisfied: keras in /usr/local/lib/python3.10/dist-packages (3.2.1)\n",
            "Requirement already satisfied: absl-py in /usr/local/lib/python3.10/dist-packages (from keras) (1.4.0)\n",
            "Requirement already satisfied: numpy in /usr/local/lib/python3.10/dist-packages (from keras) (1.25.2)\n",
            "Requirement already satisfied: rich in /usr/local/lib/python3.10/dist-packages (from keras) (13.7.1)\n",
            "Requirement already satisfied: namex in /usr/local/lib/python3.10/dist-packages (from keras) (0.0.8)\n",
            "Requirement already satisfied: h5py in /usr/local/lib/python3.10/dist-packages (from keras) (3.9.0)\n",
            "Requirement already satisfied: optree in /usr/local/lib/python3.10/dist-packages (from keras) (0.11.0)\n",
            "Requirement already satisfied: ml-dtypes in /usr/local/lib/python3.10/dist-packages (from keras) (0.2.0)\n",
            "Requirement already satisfied: typing-extensions>=4.0.0 in /usr/local/lib/python3.10/dist-packages (from optree->keras) (4.11.0)\n",
            "Requirement already satisfied: markdown-it-py>=2.2.0 in /usr/local/lib/python3.10/dist-packages (from rich->keras) (3.0.0)\n",
            "Requirement already satisfied: pygments<3.0.0,>=2.13.0 in /usr/local/lib/python3.10/dist-packages (from rich->keras) (2.16.1)\n",
            "Requirement already satisfied: mdurl~=0.1 in /usr/local/lib/python3.10/dist-packages (from markdown-it-py>=2.2.0->rich->keras) (0.1.2)\n"
          ]
        }
      ]
    },
    {
      "cell_type": "code",
      "source": [
        "import keras\n",
        "print(keras.__version__)"
      ],
      "metadata": {
        "colab": {
          "base_uri": "https://localhost:8080/"
        },
        "id": "8CJHvlUay9xO",
        "outputId": "74dbfbd0-46ad-4d27-bb25-5ffd9bdca761"
      },
      "id": "8CJHvlUay9xO",
      "execution_count": null,
      "outputs": [
        {
          "output_type": "stream",
          "name": "stdout",
          "text": [
            "3.2.1\n"
          ]
        }
      ]
    },
    {
      "cell_type": "markdown",
      "source": [
        "Es necesario configurar el Backend. **Nota**: El backend debe estar configurado antes de importar Keras y no puede ser cambiando después de ser importado Keras."
      ],
      "metadata": {
        "id": "Wj3ShwTGzjtX"
      },
      "id": "Wj3ShwTGzjtX"
    },
    {
      "cell_type": "code",
      "source": [
        "# Configuramos el backed:\n",
        "import os\n",
        "os.environ[\"KERAS_BACKEND\"] = \"jax\"\n",
        "import keras"
      ],
      "metadata": {
        "id": "q4dGHniNzOM1"
      },
      "id": "q4dGHniNzOM1",
      "execution_count": null,
      "outputs": []
    },
    {
      "cell_type": "markdown",
      "id": "c1315c4b",
      "metadata": {
        "id": "c1315c4b"
      },
      "source": [
        "# _An incredible short guide about Keras_"
      ]
    },
    {
      "cell_type": "raw",
      "id": "16fe9b36",
      "metadata": {
        "id": "16fe9b36"
      },
      "source": [
        "\n",
        "```\n",
        "# Para usar keras se deben seguir los\n",
        "# siguientes pasos:\n",
        "\n",
        "\n",
        "# Es necesario declarar el backend\n",
        "import os\n",
        "os.environ[\"KERAS_BACKEND\"] = \"jax\"\n",
        "import keras\n",
        "```"
      ]
    },
    {
      "cell_type": "markdown",
      "source": [
        "Importamos las librerías más usuales, aunque este paso puede variar considerablemente dependiendo de las necesidades del proyecto."
      ],
      "metadata": {
        "id": "D50P0F1P2Hs1"
      },
      "id": "D50P0F1P2Hs1"
    },
    {
      "cell_type": "raw",
      "id": "569dab5f",
      "metadata": {
        "id": "569dab5f"
      },
      "source": [
        "```\n",
        "# Importamos las librerias más usuales\n",
        "from keras.models import Sequential\n",
        "from keras.layers import Input, Dense, Flatten\n",
        "from keras.layers import Activation\n",
        "from keras.optimizers import SGD\n",
        "from keras.models import Model\n",
        "from keras.utils import plot_model\n",
        "from keras import initializers\n",
        "from keras import optimizers\n",
        "```"
      ]
    },
    {
      "cell_type": "raw",
      "id": "3315ab1e",
      "metadata": {
        "id": "3315ab1e"
      },
      "source": [
        "```\n",
        "# Para saber la versión\n",
        "keras.__version__\n",
        "```"
      ]
    },
    {
      "cell_type": "markdown",
      "source": [
        "Keras se compone de _layers_ y de _models_. De manera que primero declaramos la arquitectura de nuestro sistema, es decir, cuántas capas y de qué forma estarán organizadas, de manera que generemos un _model_."
      ],
      "metadata": {
        "id": "FMt5y_jN2T3N"
      },
      "id": "FMt5y_jN2T3N"
    },
    {
      "cell_type": "raw",
      "id": "b6bdbb7a",
      "metadata": {
        "id": "b6bdbb7a"
      },
      "source": [
        "```\n",
        "# Para definir una arquitectura\n",
        "def architecture(initializer, activation, input_shape):\n",
        "\n",
        "    model = Sequential()\n",
        "\n",
        "    model.add(Input(input_shape))                    # Input layer\n",
        "\n",
        "    model.add(Dense(units=1,\n",
        "                    kernel_initializer=initializer,\n",
        "                    bias_initializer='zeros',\n",
        "                    activation = activation))\n",
        "\n",
        "    return model\n",
        "  ```"
      ]
    },
    {
      "cell_type": "markdown",
      "source": [
        "En esta sección, agregamos los paramétros de iniciación para los pesos y las funciones de activación."
      ],
      "metadata": {
        "id": "8mcD7YtE2npt"
      },
      "id": "8mcD7YtE2npt"
    },
    {
      "cell_type": "raw",
      "id": "a496209c",
      "metadata": {
        "id": "a496209c"
      },
      "source": [
        "```\n",
        "# Para generar el modelo:\n",
        "input_shape = (n_x,)\n",
        "initializer = keras.initializers.RandomUniform(minval=0., maxval=0.1)\n",
        "#initializer=\"uniform\"\n",
        "#initializer = tf.keras.initializers.RandomNormal(mean=0., stddev=1.)\n",
        "activation = 'linear'\n",
        "\n",
        "model_new = architecture(initializer, activation, input_shape)\n",
        "```"
      ]
    },
    {
      "cell_type": "raw",
      "id": "11034b2c",
      "metadata": {
        "id": "11034b2c"
      },
      "source": [
        "```\n",
        "# Para visualizar al modelo\n",
        "plot_model(model_new, to_file='model.png', show_shapes=True, rankdir='TB',\n",
        "      expand_nested=True, show_layer_names=True, dpi=96)\n",
        "```\n",
        "\n"
      ]
    },
    {
      "cell_type": "raw",
      "id": "d4d48ee2",
      "metadata": {
        "id": "d4d48ee2"
      },
      "source": [
        "```\n",
        "# Para ver la cantidad de parametros en el modelo\n",
        "model_new.summary()\n",
        "```"
      ]
    },
    {
      "cell_type": "markdown",
      "source": [
        "Una vez declarada la arquitectura, es necesario compilar el modelo, esto se refiere a la manera en que el modelo aprenderá"
      ],
      "metadata": {
        "id": "OfzPWjiM2w3L"
      },
      "id": "OfzPWjiM2w3L"
    },
    {
      "cell_type": "raw",
      "id": "3e47b009",
      "metadata": {
        "id": "3e47b009"
      },
      "source": [
        "```\n",
        "# Para compilar el modelo\n",
        "lr = 0.01\n",
        "\n",
        "optimizer = keras.optimizers.SGD(learning_rate=lr, momentum=0.0, nesterov=False)\n",
        "loss = keras.losses.MeanSquaredError()\n",
        "acc = keras.metrics.MeanSquaredError()\n",
        "\n",
        "model_new.compile(loss=loss,\n",
        "              optimizer=optimizer,\n",
        "              metrics=[acc])\n",
        "\n",
        "# We define the optimizing function and their hyperparameters: learning rate,\n",
        "# momentum and nesterov (whether to apply Nesterov gradient)\n",
        "\n",
        "sgd = optimizers.SGD(learning_rate=0.01, momentum=0.0, nesterov=False)\n",
        "\n",
        "model_new.compile(loss='mean_squared_error', optimizer=sgd) # loss is the error metric, in the present cas mean square error\n",
        "```"
      ]
    },
    {
      "cell_type": "markdown",
      "source": [
        "Una vez compilado el modelo, lo entrenamos de la siguiente manera:"
      ],
      "metadata": {
        "id": "cjSh_BCu24UW"
      },
      "id": "cjSh_BCu24UW"
    },
    {
      "cell_type": "raw",
      "id": "e79026ba",
      "metadata": {
        "id": "e79026ba"
      },
      "source": [
        "```\n",
        "# Para entrenar el modelo\n",
        "# 10 % of the learning samples will be used to validate the learning: validation_ratio\n",
        "validation_ratio = 0.1\n",
        "epochs = 200\n",
        "\n",
        "history = model_new.fit(learn_x, learn_y, epochs=epochs, validation_split = validation_ratio, verbose=1)\n",
        "\n",
        "# the \"history\" object contains the information generated during the learning\n",
        "```\n",
        "\n"
      ]
    },
    {
      "cell_type": "markdown",
      "source": [
        "Y para visualizar las funciones de costo podemos graficarlas por medio de:"
      ],
      "metadata": {
        "id": "8zEFRv9F29Dz"
      },
      "id": "8zEFRv9F29Dz"
    },
    {
      "cell_type": "raw",
      "id": "33dfefe9",
      "metadata": {
        "id": "33dfefe9"
      },
      "source": [
        "```\n",
        "# Graficas\n",
        "plt.figure(figsize=(10, 7))\n",
        "\n",
        "plt.plot(history.history['loss'], color='red')\n",
        "plt.plot(history.history['val_loss'], color='green')\n",
        "plt.title('Cost function', size=16)\n",
        "plt.ylabel('Loss', size=16)\n",
        "plt.xlabel('Epoch', size=16)\n",
        "plt.legend(['train', 'val'], loc='upper right', prop={'size': 16})\n",
        "plt.show()\n",
        "```"
      ]
    },
    {
      "cell_type": "markdown",
      "source": [
        "Finalmente, podemos evaluar el desempeño del modelo por medio del método _evaluate_, de la siguiente manera"
      ],
      "metadata": {
        "id": "LgYyiTe-3Bgr"
      },
      "id": "LgYyiTe-3Bgr"
    },
    {
      "cell_type": "raw",
      "id": "7e01ee73",
      "metadata": {
        "id": "7e01ee73"
      },
      "source": [
        "```\n",
        "# Para evaluar el modelo:\n",
        "preds = model_new.evaluate(x=test_x, y=test_y)\n",
        "\n",
        "print (\"Loss = \" + str(preds))\n",
        "```\n"
      ]
    },
    {
      "cell_type": "markdown",
      "source": [
        "# An also incredible short guide about Pandas"
      ],
      "metadata": {
        "id": "PLc4Y91b4WT8"
      },
      "id": "PLc4Y91b4WT8"
    },
    {
      "cell_type": "markdown",
      "source": [],
      "metadata": {
        "id": "L-LhBw-Q4dlp"
      },
      "id": "L-LhBw-Q4dlp"
    },
    {
      "cell_type": "markdown",
      "source": [
        "# What's AI?"
      ],
      "metadata": {
        "id": "uLkEu-Jz4t2S"
      },
      "id": "uLkEu-Jz4t2S"
    },
    {
      "cell_type": "markdown",
      "source": [],
      "metadata": {
        "id": "TkmIQpP14xz9"
      },
      "id": "TkmIQpP14xz9"
    }
  ],
  "metadata": {
    "kernelspec": {
      "display_name": "Python 3 (ipykernel)",
      "language": "python",
      "name": "python3"
    },
    "language_info": {
      "codemirror_mode": {
        "name": "ipython",
        "version": 3
      },
      "file_extension": ".py",
      "mimetype": "text/x-python",
      "name": "python",
      "nbconvert_exporter": "python",
      "pygments_lexer": "ipython3",
      "version": "3.11.5"
    },
    "colab": {
      "provenance": [],
      "include_colab_link": true
    }
  },
  "nbformat": 4,
  "nbformat_minor": 5
}